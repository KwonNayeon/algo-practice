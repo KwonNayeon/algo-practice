{
  "nbformat": 4,
  "nbformat_minor": 0,
  "metadata": {
    "colab": {
      "provenance": [],
      "authorship_tag": "ABX9TyNkSj1n+Nf6ZbYO0WIG9hzs",
      "include_colab_link": true
    },
    "kernelspec": {
      "name": "python3",
      "display_name": "Python 3"
    },
    "language_info": {
      "name": "python"
    }
  },
  "cells": [
    {
      "cell_type": "markdown",
      "metadata": {
        "id": "view-in-github",
        "colab_type": "text"
      },
      "source": [
        "<a href=\"https://colab.research.google.com/github/KwonNayeon/algo-practice/blob/main/Algorithm_and_data_structure_chapter_6.ipynb\" target=\"_parent\"><img src=\"https://colab.research.google.com/assets/colab-badge.svg\" alt=\"Open In Colab\"/></a>"
      ]
    },
    {
      "cell_type": "markdown",
      "source": [
        "# Chapter 6"
      ],
      "metadata": {
        "id": "_2gCrNeQtBPH"
      }
    },
    {
      "cell_type": "code",
      "execution_count": null,
      "metadata": {
        "id": "cnkgcHgHs63F"
      },
      "outputs": [],
      "source": [
        "# FizzBuzz\n",
        "def fizzbuzz(n):\n",
        "    for i in range(1, n+1):\n",
        "        if i % 3 == 0 and i % 5 == 0:\n",
        "            print(\"fizzbuzz\")\n",
        "        elif i % 3 == 0:\n",
        "            print(\"fizz\")\n",
        "        elif i % 5 == 0:\n",
        "            print(\"buzz\")\n",
        "        else:\n",
        "            print(i)\n",
        "print(fizzbuzz(100))"
      ]
    },
    {
      "cell_type": "code",
      "source": [
        "# Greatest Common Factor\n",
        "def gcf(i1, i2):\n",
        "  gcf = None\n",
        "  if i1 > i2:\n",
        "      smaller = i2\n",
        "  else:\n",
        "      smaller = i1\n",
        "  for i in range(1, smaller + 1):\n",
        "      if i1 % i == 0 and i2 % i == 0:\n",
        "          gcf = i\n",
        "  return gcf\n",
        "print(gcf(10, 20))\n",
        "print(gcf(0, 20))\n",
        "\n",
        "# Revised Function with Boundary Conditions\n",
        "def gcf(i1, i2):\n",
        "    if i1 == 0:\n",
        "        return i2\n",
        "    elif i2 == 0:\n",
        "        return i1\n",
        "\n",
        "    if i1 > i2:\n",
        "        smaller = i2\n",
        "    else:\n",
        "        smaller = i1\n",
        "\n",
        "    for divisor in range(1, smaller + 1):\n",
        "        if i1 % divisor == 0 and i2 % divisor == 0:\n",
        "            gcf = divisor\n",
        "    return gcf\n",
        "print(gcf(10, 20))\n",
        "print(gcf(0, 20))\n",
        "\n",
        "# Final Function with Error Handling\n",
        "def gcf(i1, i2):\n",
        "    if i1 < 0 or i2 < 0:\n",
        "        raise ValueError(\"Numbers must be positive\")\n",
        "    if i1 == 0:\n",
        "        return i2\n",
        "    elif i2 == 0:\n",
        "        return i1\n",
        "\n",
        "    if i1 > i2:\n",
        "        smaller = i2\n",
        "    else:\n",
        "        smaller = i1\n",
        "\n",
        "    for divisor in range(1, smaller + 1):\n",
        "        if i1 % divisor == 0 and i2 % divisor == 0:\n",
        "            gcf = divisor\n",
        "    return gcf\n",
        "\n",
        "print(gcf(10, 20))\n",
        "print(gcf(0, 20))"
      ],
      "metadata": {
        "colab": {
          "base_uri": "https://localhost:8080/"
        },
        "id": "3fMtzJBttFWN",
        "outputId": "9a19f983-448b-4d78-c843-5814709fcc31"
      },
      "execution_count": 4,
      "outputs": [
        {
          "output_type": "stream",
          "name": "stdout",
          "text": [
            "10\n",
            "None\n",
            "10\n",
            "20\n",
            "10\n",
            "20\n"
          ]
        }
      ]
    },
    {
      "cell_type": "code",
      "source": [
        "# Euclid's Algorithm\n",
        "def Euclid(x, y):\n",
        "  if y == 0:\n",
        "      x, y = y, x\n",
        "  while y != 0:\n",
        "      x, y = y, x % y\n",
        "  return x  # When y is zero, x contains the GCD\n",
        "\n",
        "print(Euclid(12, 20))"
      ],
      "metadata": {
        "colab": {
          "base_uri": "https://localhost:8080/"
        },
        "id": "znl6omf0b0xZ",
        "outputId": "d3ef7b14-2832-48f8-917d-222fd696c5e2"
      },
      "execution_count": 2,
      "outputs": [
        {
          "output_type": "stream",
          "name": "stdout",
          "text": [
            "4\n"
          ]
        }
      ]
    },
    {
      "cell_type": "code",
      "source": [
        "# Prime Number\n",
        "def is_prime(n):\n",
        "    for i in range(2, n):\n",
        "        if n % i == 0:\n",
        "            return False\n",
        "    return True\n",
        "\n",
        "print(is_prime(11))\n",
        "\n",
        "# Improved algorithm using the square root to reduce the number of iterations\n",
        "import math\n",
        "def is_prime_sqrt(n):\n",
        "    for i in range(2, int(math.sqrt(n)) + 1):\n",
        "        if n % i == 0:\n",
        "            return False\n",
        "    return True\n",
        "\n",
        "# Function to find all prime numbers up to a given limit n\n",
        "def is_prime_sqrt(n):\n",
        "    for i in range(2, int(math.sqrt(n)) + 1):\n",
        "        if n % i == 0:\n",
        "            return False\n",
        "    return True\n",
        "\n",
        "def find_primes(n):\n",
        "    return [i for i in range(2, n+1) if is_prime_sqrt(i)]\n",
        "\n",
        "print(find_primes(100))"
      ],
      "metadata": {
        "colab": {
          "base_uri": "https://localhost:8080/"
        },
        "id": "oISAD7fMi6Aa",
        "outputId": "7775c0ed-886d-4d6c-b9da-da7273b6d570"
      },
      "execution_count": 5,
      "outputs": [
        {
          "output_type": "stream",
          "name": "stdout",
          "text": [
            "True\n",
            "[2, 3, 5, 7, 11, 13, 17, 19, 23, 29, 31, 37, 41, 43, 47, 53, 59, 61, 67, 71, 73, 79, 83, 89, 97]\n"
          ]
        }
      ]
    }
  ]
}