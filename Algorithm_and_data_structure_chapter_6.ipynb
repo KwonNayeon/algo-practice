{
  "nbformat": 4,
  "nbformat_minor": 0,
  "metadata": {
    "colab": {
      "provenance": [],
      "authorship_tag": "ABX9TyO9ibsDG52u973yqZO7kBEd",
      "include_colab_link": true
    },
    "kernelspec": {
      "name": "python3",
      "display_name": "Python 3"
    },
    "language_info": {
      "name": "python"
    }
  },
  "cells": [
    {
      "cell_type": "markdown",
      "metadata": {
        "id": "view-in-github",
        "colab_type": "text"
      },
      "source": [
        "<a href=\"https://colab.research.google.com/github/KwonNayeon/algo-practice/blob/main/Algorithm_and_data_structure_chapter_6.ipynb\" target=\"_parent\"><img src=\"https://colab.research.google.com/assets/colab-badge.svg\" alt=\"Open In Colab\"/></a>"
      ]
    },
    {
      "cell_type": "markdown",
      "source": [
        "# Chapter 6"
      ],
      "metadata": {
        "id": "_2gCrNeQtBPH"
      }
    },
    {
      "cell_type": "code",
      "execution_count": null,
      "metadata": {
        "id": "cnkgcHgHs63F"
      },
      "outputs": [],
      "source": [
        "# FizzBuzz\n",
        "def fizzbuzz(n):\n",
        "    for i in range(1, n+1):\n",
        "        if i % 3 == 0 and i % 5 == 0:\n",
        "            print(\"fizzbuzz\")\n",
        "        elif i % 3 == 0:\n",
        "            print(\"fizz\")\n",
        "        elif i % 5 == 0:\n",
        "            print(\"buzz\")\n",
        "        else:\n",
        "            print(i)\n",
        "print(fizzbuzz(100))"
      ]
    },
    {
      "cell_type": "code",
      "source": [
        "# Greatest Common Factor\n",
        "def gcf(i1, i2):\n",
        "  gcf = None\n",
        "  if i1 > i2:\n",
        "      smaller = i2\n",
        "  else:\n",
        "      smaller = i1\n",
        "  for i in range(1, smaller + 1):\n",
        "      if i1 % i == 0 and i2 % i == 0:\n",
        "          gcf = i\n",
        "  return gcf\n",
        "print(gcf(10, 20))\n",
        "print(gcf(0, 20))\n",
        "\n",
        "# Revised Function with Boundary Conditions\n",
        "def gcf(i1, i2):\n",
        "    if i1 == 0:\n",
        "        return i2\n",
        "    elif i2 == 0:\n",
        "        return i1\n",
        "\n",
        "    if i1 > i2:\n",
        "        smaller = i2\n",
        "    else:\n",
        "        smaller = i1\n",
        "\n",
        "    for divisor in range(1, smaller + 1):\n",
        "        if i1 % divisor == 0 and i2 % divisor == 0:\n",
        "            gcf = divisor\n",
        "    return gcf\n",
        "print(gcf(10, 20))\n",
        "print(gcf(0, 20))\n",
        "\n",
        "# Final Function with Error Handling\n",
        "def gcf(i1, i2):\n",
        "    if i1 < 0 or i2 < 0:\n",
        "        raise ValueError(\"Numbers must be positive\")\n",
        "    if i1 == 0:\n",
        "        return i2\n",
        "    elif i2 == 0:\n",
        "        return i1\n",
        "\n",
        "    if i1 > i2:\n",
        "        smaller = i2\n",
        "    else:\n",
        "        smaller = i1\n",
        "\n",
        "    for divisor in range(1, smaller + 1):\n",
        "        if i1 % divisor == 0 and i2 % divisor == 0:\n",
        "            gcf = divisor\n",
        "    return gcf\n",
        "print(gcf(10, 20))\n",
        "print(gcf(0, 20))"
      ],
      "metadata": {
        "colab": {
          "base_uri": "https://localhost:8080/"
        },
        "id": "3fMtzJBttFWN",
        "outputId": "9a19f983-448b-4d78-c843-5814709fcc31"
      },
      "execution_count": 4,
      "outputs": [
        {
          "output_type": "stream",
          "name": "stdout",
          "text": [
            "10\n",
            "None\n",
            "10\n",
            "20\n",
            "10\n",
            "20\n"
          ]
        }
      ]
    }
  ]
}