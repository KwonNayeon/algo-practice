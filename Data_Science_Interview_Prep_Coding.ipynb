{
  "nbformat": 4,
  "nbformat_minor": 0,
  "metadata": {
    "colab": {
      "provenance": [],
      "authorship_tag": "ABX9TyMxanNumLoFqVQshOsWJrcX",
      "include_colab_link": true
    },
    "kernelspec": {
      "name": "python3",
      "display_name": "Python 3"
    },
    "language_info": {
      "name": "python"
    }
  },
  "cells": [
    {
      "cell_type": "markdown",
      "metadata": {
        "id": "view-in-github",
        "colab_type": "text"
      },
      "source": [
        "<a href=\"https://colab.research.google.com/github/KwonNayeon/algo-practice/blob/main/Data_Science_Interview_Prep_Coding.ipynb\" target=\"_parent\"><img src=\"https://colab.research.google.com/assets/colab-badge.svg\" alt=\"Open In Colab\"/></a>"
      ]
    },
    {
      "cell_type": "markdown",
      "source": [
        "# Data Structures\n",
        "\n",
        "*   Arrays\n",
        "*   Linked Lists\n",
        "*   Stacks & Queues\n",
        "*   Hash Maps\n",
        "*   Trees\n",
        "*   Graphs\n",
        "\n",
        "# Algorithms\n",
        "\n",
        "* Recursion\n",
        "* Greedy Algorithms\n",
        "* Dynamic Programming\n",
        "* Greedy Algorithms vs. Dynamic Programming\n",
        "* Sorting\n",
        "  * Mergesort\n",
        "  * Quicksort\n",
        "* Matrix Multiplication\n",
        "\n"
      ],
      "metadata": {
        "id": "CuuxHpc0mqw3"
      }
    },
    {
      "cell_type": "markdown",
      "source": [
        "# Data Structures"
      ],
      "metadata": {
        "id": "xc-Cog5Gq9cM"
      }
    },
    {
      "cell_type": "markdown",
      "source": [
        "# Arrays"
      ],
      "metadata": {
        "id": "t8Vwt_6GqkFE"
      }
    },
    {
      "cell_type": "code",
      "execution_count": 1,
      "metadata": {
        "id": "LoUGa_Comf9v"
      },
      "outputs": [],
      "source": [
        "# arrays\n",
        "a = [x*2 for x in range(1, 11)]  # list creation\n",
        "c = [sum(a[:x]) for x in range(len(a)+1)]  # cumulative sum"
      ]
    },
    {
      "cell_type": "code",
      "source": [
        "# Test a\n",
        "print(\"List a:\", a)  # Should print [2, 4, 6, 8, 10, 12, 14, 16, 18, 20]\n",
        "\n",
        "# Test cumulative sum\n",
        "print(\"List c (cumulative sum):\", c)\n",
        "# Expected output: [0, 2, 6, 12, 20, 30, 42, 56, 72, 90, 110]"
      ],
      "metadata": {
        "colab": {
          "base_uri": "https://localhost:8080/"
        },
        "id": "hXNihBp8n8S1",
        "outputId": "f302da9a-98fe-4bf7-a401-4180cf6f4d60"
      },
      "execution_count": 2,
      "outputs": [
        {
          "output_type": "stream",
          "name": "stdout",
          "text": [
            "List a: [2, 4, 6, 8, 10, 12, 14, 16, 18, 20]\n",
            "List c (cumulative sum): [0, 2, 6, 12, 20, 30, 42, 56, 72, 90, 110]\n"
          ]
        }
      ]
    },
    {
      "cell_type": "markdown",
      "source": [
        "# Linked Lists"
      ],
      "metadata": {
        "id": "fQUNWlxBqpeU"
      }
    },
    {
      "cell_type": "code",
      "source": [
        "# Node class definition (as defined earlier)\n",
        "class Node:\n",
        "    def __init__(self, val):\n",
        "        self.var = val\n",
        "        self.next = None\n",
        "\n",
        "# LinkedList class definition\n",
        "class LinkedList:\n",
        "    def __init__(self):\n",
        "        self.head = None  # Initialize head as None\n",
        "\n",
        "    def reverse(self):\n",
        "        prev = None\n",
        "        curr = self.head\n",
        "        while curr:\n",
        "            next = curr.next\n",
        "            curr.next = prev\n",
        "            prev = curr\n",
        "            curr = next\n",
        "        self.head = prev\n",
        "\n",
        "    # Method to insert a node at the end of the list\n",
        "    def append(self, val):\n",
        "        if not self.head:\n",
        "            self.head = Node(val)\n",
        "        else:\n",
        "            curr = self.head\n",
        "            while curr.next:\n",
        "                curr = curr.next\n",
        "            curr.next = Node(val)\n",
        "\n",
        "    # Method to print the linked list\n",
        "    def print_list(self):\n",
        "        curr = self.head\n",
        "        while curr:\n",
        "            print(curr.var, end=\" -> \")\n",
        "            curr = curr.next\n",
        "        print(\"None\")"
      ],
      "metadata": {
        "id": "ut_L8ocdoQ-w"
      },
      "execution_count": 6,
      "outputs": []
    },
    {
      "cell_type": "code",
      "source": [
        "# Test the code\n",
        "ll = LinkedList()\n",
        "ll.append(1)\n",
        "ll.append(2)\n",
        "ll.append(3)\n",
        "ll.append(4)\n",
        "\n",
        "print(\"Original list:\")\n",
        "ll.print_list()\n",
        "\n",
        "ll.reverse()\n",
        "print(\"Reversed list:\")\n",
        "ll.print_list()"
      ],
      "metadata": {
        "colab": {
          "base_uri": "https://localhost:8080/"
        },
        "id": "6_uLTAl-peF8",
        "outputId": "02f97749-07d9-4295-d5e4-0848ccd0b390"
      },
      "execution_count": 7,
      "outputs": [
        {
          "output_type": "stream",
          "name": "stdout",
          "text": [
            "Original list:\n",
            "1 -> 2 -> 3 -> 4 -> None\n",
            "Reversed list:\n",
            "4 -> 3 -> 2 -> 1 -> None\n"
          ]
        }
      ]
    },
    {
      "cell_type": "markdown",
      "source": [
        "# Stacks & Queues"
      ],
      "metadata": {
        "id": "gXONFekLqvvs"
      }
    },
    {
      "cell_type": "code",
      "source": [
        "def check_balance(s):\n",
        "    left_side = ['(', '[', '{']\n",
        "    right_side = [')', ']', '}']\n",
        "    stack = []\n",
        "\n",
        "    for i in s:\n",
        "        if i in left_side:\n",
        "            stack.append(i)\n",
        "        elif i in right_side:\n",
        "            pos = right_side.index(i)\n",
        "            # Check if the stack is empty or if the current closing bracket does not match the last opened one\n",
        "            if len(stack) == 0 or (left_side[pos] != stack.pop()):\n",
        "                return False\n",
        "\n",
        "    # After going through the string, check if the stack is empty for balance\n",
        "    return len(stack) == 0\n",
        "\n",
        "s = \"()\"\n",
        "print(check_balance(s))"
      ],
      "metadata": {
        "colab": {
          "base_uri": "https://localhost:8080/"
        },
        "id": "mEGJqdIFqxRm",
        "outputId": "690afb77-49c6-42ed-d7bc-ed761720ea9c"
      },
      "execution_count": 9,
      "outputs": [
        {
          "output_type": "stream",
          "name": "stdout",
          "text": [
            "True\n"
          ]
        }
      ]
    },
    {
      "cell_type": "markdown",
      "source": [
        "# Hash Maps"
      ],
      "metadata": {
        "id": "CDh8BCIwsbcE"
      }
    },
    {
      "cell_type": "code",
      "source": [
        "def check_sum(a, target):\n",
        "    d = {}  # Create a dictionary\n",
        "    for i in a:\n",
        "        if (target - i) in d:\n",
        "            return True  # If the complement is found, return True\n",
        "        else:\n",
        "            d[i] = i  # Add the current element to the dictionary\n",
        "    return False  # If no pair is found, return False after the loop"
      ],
      "metadata": {
        "id": "bY-6TYHMr6k8"
      },
      "execution_count": 10,
      "outputs": []
    },
    {
      "cell_type": "code",
      "source": [
        "a = [2, 7, 11, 15]\n",
        "target = 9\n",
        "print(check_sum(a, target))  # Output: True (because 2 + 7 = 9)\n",
        "\n",
        "a = [1, 2, 3, 4]\n",
        "target = 8\n",
        "print(check_sum(a, target))  # Output: False (no pair adds up to 8)"
      ],
      "metadata": {
        "colab": {
          "base_uri": "https://localhost:8080/"
        },
        "id": "fJ7nGZH-3D35",
        "outputId": "b8d1d877-2373-41cc-86eb-b6fb724ffe92"
      },
      "execution_count": 11,
      "outputs": [
        {
          "output_type": "stream",
          "name": "stdout",
          "text": [
            "True\n",
            "False\n"
          ]
        }
      ]
    },
    {
      "cell_type": "markdown",
      "source": [
        "# Trees\n",
        "\n",
        "*   Binary Search Trees\n",
        "*   Heaps\n",
        "\n"
      ],
      "metadata": {
        "id": "2jSeV4EZ3MZ-"
      }
    },
    {
      "cell_type": "code",
      "source": [
        "class TreeNode:\n",
        "    def __init__(self, val):\n",
        "        self.val = val\n",
        "        self.left = None\n",
        "        self.right = None"
      ],
      "metadata": {
        "id": "ezxVg6Ez3NoI"
      },
      "execution_count": 12,
      "outputs": []
    },
    {
      "cell_type": "code",
      "source": [
        "def inorder(node):\n",
        "    if node is None:\n",
        "        return []\n",
        "    else:\n",
        "        return inorder(node.left) + [node.val] + inorder(node.right)"
      ],
      "metadata": {
        "id": "24T-l2Cr4sBq"
      },
      "execution_count": 13,
      "outputs": []
    },
    {
      "cell_type": "code",
      "source": [
        "# Create a simple tree\n",
        "root = TreeNode(10)\n",
        "root.left = TreeNode(5)\n",
        "root.right = TreeNode(15)\n",
        "root.left.left = TreeNode(2)\n",
        "root.left.right = TreeNode(7)\n",
        "\n",
        "# Perform inorder traversal\n",
        "print(inorder(root))  # Output: [2, 5, 7, 10, 15]"
      ],
      "metadata": {
        "colab": {
          "base_uri": "https://localhost:8080/"
        },
        "id": "TRhJ6iES5KIZ",
        "outputId": "ad3a2d59-302a-42a7-b669-1551d62f88b3"
      },
      "execution_count": 16,
      "outputs": [
        {
          "output_type": "stream",
          "name": "stdout",
          "text": [
            "[2, 5, 7, 10, 15]\n"
          ]
        }
      ]
    },
    {
      "cell_type": "markdown",
      "source": [
        "## Binary Search Trees"
      ],
      "metadata": {
        "id": "z-iuWiDT4sOH"
      }
    },
    {
      "cell_type": "code",
      "source": [
        "class TreeNode:\n",
        "    def __init__(self, val):\n",
        "        self.val = val\n",
        "        self.left = None\n",
        "        self.right = None\n",
        "\n",
        "class BST:\n",
        "    def __init__(self, val):\n",
        "        self.root = TreeNode(val)  # Initialize root with the given value\n",
        "\n",
        "    def insert(self, node, val):\n",
        "        if node is not None:\n",
        "            if val < node.val:\n",
        "                if node.left is None:\n",
        "                    node.left = TreeNode(val)  # Insert on the left if space is available\n",
        "                else:\n",
        "                    self.insert(node.left, val)  # Recursively insert into the left subtree\n",
        "            else:  # val >= node.val\n",
        "                if node.right is None:\n",
        "                    node.right = TreeNode(val)  # Insert on the right if space is available\n",
        "                else:\n",
        "                    self.insert(node.right, val)  # Recursively insert into the right subtree\n",
        "        else:\n",
        "            self.root = TreeNode(val)  # Only happens if the tree is empty\n",
        "\n",
        "# Example Usage\n",
        "bst = BST(10)\n",
        "bst.insert(bst.root, 5)\n",
        "bst.insert(bst.root, 15)\n",
        "bst.insert(bst.root, 2)\n",
        "bst.insert(bst.root, 7)\n",
        "\n",
        "# Simple traversal function to check structure\n",
        "def inorder(node):\n",
        "    if node is None:\n",
        "        return []\n",
        "    else:\n",
        "        return inorder(node.left) + [node.val] + inorder(node.right)\n",
        "\n",
        "print(inorder(bst.root))  # Output: [2, 5, 7, 10, 15]"
      ],
      "metadata": {
        "colab": {
          "base_uri": "https://localhost:8080/"
        },
        "id": "-LKOatrHmL95",
        "outputId": "a35d7388-d95c-4456-c307-bbdc4322b305"
      },
      "execution_count": 1,
      "outputs": [
        {
          "output_type": "stream",
          "name": "stdout",
          "text": [
            "[2, 5, 7, 10, 15]\n"
          ]
        }
      ]
    },
    {
      "cell_type": "markdown",
      "source": [
        "## Heaps"
      ],
      "metadata": {
        "id": "4LBOQXpx4uiT"
      }
    },
    {
      "cell_type": "code",
      "source": [
        "import heapq\n",
        "k = 5\n",
        "a = [13, 5, 2, 6, 10, 9, 7, 4, 3]\n",
        "heapq.heapify(a)\n",
        "heapq.nlargest(k, a)"
      ],
      "metadata": {
        "colab": {
          "base_uri": "https://localhost:8080/"
        },
        "id": "9dvi7_-7nnMN",
        "outputId": "6028b708-bccb-435a-ae6f-4ccdccd3629b"
      },
      "execution_count": 2,
      "outputs": [
        {
          "output_type": "execute_result",
          "data": {
            "text/plain": [
              "[13, 10, 9, 7, 6]"
            ]
          },
          "metadata": {},
          "execution_count": 2
        }
      ]
    },
    {
      "cell_type": "markdown",
      "source": [
        "# Graphs"
      ],
      "metadata": {
        "id": "B02A4Js7olsE"
      }
    },
    {
      "cell_type": "code",
      "source": [
        "class Vertex:\n",
        "    def __init__(self, val):\n",
        "        self.val = val\n",
        "        self.neighbors = {}  # Change to dictionary to store neighbors and their weights\n",
        "\n",
        "    def add_to_neighbor(self, neighbor, w):\n",
        "        self.neighbors[neighbor] = w  # Correct the typo and store the weight\n",
        "\n",
        "    def get_neighbors(self):\n",
        "        return self.neighbors.keys()  # Return the keys (neighbors)\n",
        "\n",
        "class Graph:\n",
        "    def __init__(self):\n",
        "        self.vertices = {}  # Dictionary to store all vertices\n",
        "\n",
        "    def add_vertex(self, val):\n",
        "        new_vertex = Vertex(val)  # Create a new vertex\n",
        "        self.vertices[val] = new_vertex  # Add it to the vertices dictionary\n",
        "        return new_vertex\n",
        "\n",
        "    def add_edge(self, u, v, weight):\n",
        "        # Add vertices u and v if they are not already present\n",
        "        if u not in self.vertices:\n",
        "            self.add_vertex(u)\n",
        "        if v not in self.vertices:\n",
        "            self.add_vertex(v)\n",
        "        # Add v as a neighbor of u with the given weight\n",
        "        self.vertices[u].add_to_neighbor(self.vertices[v], weight)\n",
        "\n",
        "    def get_vertex(self, val):\n",
        "        return self.vertices.get(val)  # Return the vertex object, if it exists\n",
        "\n",
        "    def get_vertices(self):\n",
        "        return self.vertices.keys()  # Return all vertex keys\n",
        "\n",
        "    def __iter__(self):\n",
        "        return iter(self.vertices.values())  # Allow iteration over vertices"
      ],
      "metadata": {
        "id": "ExwLL8A7ok9S"
      },
      "execution_count": 3,
      "outputs": []
    },
    {
      "cell_type": "code",
      "source": [
        "g = Graph()\n",
        "g.add_vertex(1)\n",
        "g.add_vertex(2)\n",
        "g.add_edge(1, 2, 10)\n",
        "\n",
        "vertex_1 = g.get_vertex(1)\n",
        "print(vertex_1.val)  # Output: 1\n",
        "print([v.val for v in vertex_1.get_neighbors()])  # Output: [2]"
      ],
      "metadata": {
        "colab": {
          "base_uri": "https://localhost:8080/"
        },
        "id": "cqFu4xQlqJXb",
        "outputId": "a7d43eb6-7fff-4c54-d52c-abb3c6b4fb37"
      },
      "execution_count": 4,
      "outputs": [
        {
          "output_type": "stream",
          "name": "stdout",
          "text": [
            "1\n",
            "[2]\n"
          ]
        }
      ]
    },
    {
      "cell_type": "markdown",
      "source": [
        "## BFS (Breadth-First and Depth-First Search)"
      ],
      "metadata": {
        "id": "TisHXZWzrvqs"
      }
    },
    {
      "cell_type": "code",
      "source": [
        "def bfs(graph, start_val):\n",
        "    n = len(graph.vertices)\n",
        "    visited = {key: False for key in graph.get_vertices()}  # Use a dictionary to store visited status by vertex value\n",
        "    queue = []\n",
        "\n",
        "    queue.append(start_val)  # Start BFS from the given vertex\n",
        "    visited[start_val] = True\n",
        "\n",
        "    while queue:\n",
        "        curr = queue.pop(0)\n",
        "        print(curr, end=\" \")  # Optional: Print the current vertex\n",
        "\n",
        "        # Iterate over the neighbors of the current vertex\n",
        "        for neighbor in graph.get_vertex(curr).get_neighbors():\n",
        "            if not visited[neighbor.val]:\n",
        "                queue.append(neighbor.val)\n",
        "                visited[neighbor.val] = True\n",
        "\n",
        "    return visited  # Return visited dictionary to track visited vertices"
      ],
      "metadata": {
        "id": "SM-BALgtr6Yd"
      },
      "execution_count": 5,
      "outputs": []
    },
    {
      "cell_type": "code",
      "source": [
        "# Assuming the Graph and Vertex classes from earlier\n",
        "g = Graph()\n",
        "g.add_vertex(1)\n",
        "g.add_vertex(2)\n",
        "g.add_vertex(3)\n",
        "g.add_edge(1, 2, 1)\n",
        "g.add_edge(1, 3, 1)\n",
        "\n",
        "visited = bfs(g, 1)  # BFS starting from vertex 1\n",
        "print(visited)  # Output: BFS traversal and visited status of each vertex"
      ],
      "metadata": {
        "colab": {
          "base_uri": "https://localhost:8080/"
        },
        "id": "4pZo8OHGsegX",
        "outputId": "9bbc23c5-4cbb-49c7-d627-6cb0955bf45b"
      },
      "execution_count": 6,
      "outputs": [
        {
          "output_type": "stream",
          "name": "stdout",
          "text": [
            "1 2 3 {1: True, 2: True, 3: True}\n"
          ]
        }
      ]
    },
    {
      "cell_type": "markdown",
      "source": [
        "## DFS (Depth-first-search)"
      ],
      "metadata": {
        "id": "aablgsZbr2QW"
      }
    },
    {
      "cell_type": "code",
      "source": [
        "def dfs_helper(graph, v, visited):\n",
        "    visited.add(v)  # Mark the current node as visited\n",
        "    for neighbor in graph.get_vertex(v).get_neighbors():  # Visit each neighbor\n",
        "        if neighbor.val not in visited:  # If the neighbor hasn't been visited, recurse\n",
        "            dfs_helper(graph, neighbor.val, visited)\n",
        "\n",
        "def dfs(graph, start_val):\n",
        "    visited = set()  # Use a set to track visited nodes\n",
        "    dfs_helper(graph, start_val, visited)\n",
        "    return visited  # Return the visited set"
      ],
      "metadata": {
        "id": "kYjnOTkashyw"
      },
      "execution_count": 7,
      "outputs": []
    },
    {
      "cell_type": "code",
      "source": [
        "# Assuming the Graph and Vertex classes from earlier\n",
        "g = Graph()\n",
        "g.add_vertex(1)\n",
        "g.add_vertex(2)\n",
        "g.add_vertex(3)\n",
        "g.add_edge(1, 2, 1)\n",
        "g.add_edge(1, 3, 1)\n",
        "\n",
        "visited = dfs(g, 1)  # DFS starting from vertex 1\n",
        "print(visited)  # Output: {1, 2, 3}"
      ],
      "metadata": {
        "colab": {
          "base_uri": "https://localhost:8080/"
        },
        "id": "_Bio0dGFtJgq",
        "outputId": "ffd54bef-dac5-414b-ba67-9a8dcb4bda9d"
      },
      "execution_count": 8,
      "outputs": [
        {
          "output_type": "stream",
          "name": "stdout",
          "text": [
            "{1, 2, 3}\n"
          ]
        }
      ]
    },
    {
      "cell_type": "markdown",
      "source": [
        "# Algorithm"
      ],
      "metadata": {
        "id": "HOZOMEw_rB6B"
      }
    },
    {
      "cell_type": "markdown",
      "source": [
        "## Recursion"
      ],
      "metadata": {
        "id": "yi-59EhdhbeD"
      }
    },
    {
      "cell_type": "code",
      "source": [
        "# Recursive algoritm\n",
        "\n",
        "def fib(n):\n",
        "    if n == 0:\n",
        "        return 0\n",
        "    if n == 1 or n == 2:\n",
        "        return 1\n",
        "    else:\n",
        "        return fib(n-1) + fib(n-2)"
      ],
      "metadata": {
        "id": "2RARkd5IhyPD"
      },
      "execution_count": 1,
      "outputs": []
    },
    {
      "cell_type": "code",
      "source": [
        "# Basic test cases\n",
        "print(fib(0))  # Expected output: 0\n",
        "print(fib(1))  # Expected output: 1\n",
        "print(fib(2))  # Expected output: 1\n",
        "print(fib(5))  # Expected output: 5\n",
        "print(fib(10)) # Expected output: 55"
      ],
      "metadata": {
        "colab": {
          "base_uri": "https://localhost:8080/"
        },
        "id": "x7NG2g90lWXn",
        "outputId": "6d89a25b-818e-45bb-a5b5-36955a07e091"
      },
      "execution_count": 2,
      "outputs": [
        {
          "output_type": "stream",
          "name": "stdout",
          "text": [
            "0\n",
            "1\n",
            "1\n",
            "5\n",
            "55\n"
          ]
        }
      ]
    },
    {
      "cell_type": "code",
      "source": [
        "# Iterative algoritm\n",
        "\n",
        "def fib(n):\n",
        "    if n == 0:\n",
        "        return 0\n",
        "    if n == 1 or n == 2:\n",
        "        return 1\n",
        "    else:\n",
        "        prev2 = 0\n",
        "        prev1 = 1\n",
        "        res = 0\n",
        "        for i in range(1, n):\n",
        "            res = prev1 + prev2\n",
        "            prev2 = prev1\n",
        "            prev1 = res\n",
        "        return res"
      ],
      "metadata": {
        "id": "89aSpsVTjS0C"
      },
      "execution_count": 1,
      "outputs": []
    },
    {
      "cell_type": "code",
      "source": [
        "print(fib(10))"
      ],
      "metadata": {
        "colab": {
          "base_uri": "https://localhost:8080/"
        },
        "id": "I3n3cpOpSWEt",
        "outputId": "766331b4-819c-4b1f-e19f-31cbd8a5dcac"
      },
      "execution_count": 2,
      "outputs": [
        {
          "output_type": "stream",
          "name": "stdout",
          "text": [
            "55\n"
          ]
        }
      ]
    },
    {
      "cell_type": "markdown",
      "source": [
        "## Greedy Algorithms"
      ],
      "metadata": {
        "id": "lFchAiYdhbnx"
      }
    },
    {
      "cell_type": "code",
      "source": [
        "def coin_change(amount, coins):\n",
        "    # Sort the coins in descending order (to ensure we use the largest coins first)\n",
        "    coins.sort(reverse=True)\n",
        "\n",
        "    # Dictionary to store the number of each coin used\n",
        "    result = {}\n",
        "\n",
        "    # Iterate through each coin\n",
        "    for coin in coins:\n",
        "        # Find how many of this coin we can use\n",
        "        count = amount // coin\n",
        "        if count > 0:\n",
        "            result[coin] = count  # Add to result if we use this coin\n",
        "        amount = amount % coin  # Update the remaining amount\n",
        "\n",
        "    return result\n",
        "\n",
        "# List of coin denominations (U.S. coins)\n",
        "coins = [25, 10, 5, 1]\n",
        "\n",
        "# The total amount we want to change\n",
        "amount = 67\n",
        "\n",
        "# Get the result\n",
        "change = coin_change(amount, coins)\n",
        "\n",
        "print(\"Change for 67 cents using the fewest coins:\")\n",
        "for coin, count in change.items():\n",
        "    print(f\"{count} coin(s) of {coin} cent(s)\")"
      ],
      "metadata": {
        "colab": {
          "base_uri": "https://localhost:8080/"
        },
        "id": "qRv9nC2GlbsN",
        "outputId": "4aa9c8cc-9fea-4ad2-8e39-ea7a8cc80192"
      },
      "execution_count": 3,
      "outputs": [
        {
          "output_type": "stream",
          "name": "stdout",
          "text": [
            "Change for 67 cents using the fewest coins:\n",
            "2 coin(s) of 25 cent(s)\n",
            "1 coin(s) of 10 cent(s)\n",
            "1 coin(s) of 5 cent(s)\n",
            "2 coin(s) of 1 cent(s)\n"
          ]
        }
      ]
    },
    {
      "cell_type": "markdown",
      "source": [
        "## Dynamic Programming"
      ],
      "metadata": {
        "id": "01huBMoJhb0Z"
      }
    },
    {
      "cell_type": "code",
      "source": [
        "dp = [0] * 1000\n",
        "\n",
        "def fib(n):\n",
        "    if n == 0 or n == 1:\n",
        "        return n\n",
        "    else:\n",
        "        dp[n] = fib(n-1) + fib(n-2)\n",
        "        return dp[n]"
      ],
      "metadata": {
        "id": "dx01O9dMqA8s"
      },
      "execution_count": 4,
      "outputs": []
    },
    {
      "cell_type": "code",
      "source": [
        "# A bottom-up dynamic programming approach.\n",
        "\n",
        "def fib(n):\n",
        "    dp = [0 for _ in range(n+1)]    # dp = [0 for i in range(n+1)]  # Here 'i' is not used\n",
        "    dp[1] = 1\n",
        "    for i in range(2, n+1):\n",
        "        dp[i] = dp[i-1] + dp[i-2]\n",
        "    return dp[n]\n",
        "\n",
        "# Test case\n",
        "n = 10\n",
        "print(f\"The {n}th Fibonacci number is:\", fib(n))"
      ],
      "metadata": {
        "colab": {
          "base_uri": "https://localhost:8080/"
        },
        "id": "7o5it9KIqQIf",
        "outputId": "c88d50ee-914a-4db8-d986-a897f702ff90"
      },
      "execution_count": 5,
      "outputs": [
        {
          "output_type": "stream",
          "name": "stdout",
          "text": [
            "The 10th Fibonacci number is: 55\n"
          ]
        }
      ]
    },
    {
      "cell_type": "markdown",
      "source": [
        "## Greedy Algorithms vs. Dynamic Programming\n",
        "\n",
        "## Problem:\n",
        "Given a total amount of money and a list of coin denominations, find the minimum number of coins required to make that amount.\n",
        "\n",
        "## 1. **Greedy Algorithm**\n",
        "\n",
        "- **Approach**: Picks the largest coin possible at each step (local optimal).\n",
        "- **Example**:  \n",
        "  - **Coin Denominations**: [25, 10, 1]  \n",
        "  - **Target**: 30  \n",
        "  - **Solution**: Use 1 coin of 25 cents and 5 coins of 1 cent.  \n",
        "  - **Total Coins Used**: 2  \n",
        "  - **Optimal in this case**: Yes."
      ],
      "metadata": {
        "id": "Nt3W7Ql_hb9Q"
      }
    },
    {
      "cell_type": "code",
      "source": [
        "def greedy_coin_change(coins, amount):\n",
        "    coins.sort(reverse=True)  # Sort in descending order\n",
        "    count = 0\n",
        "    for coin in coins:\n",
        "        if amount == 0:\n",
        "            break\n",
        "        count += amount // coin  # Use as many of this coin as possible\n",
        "        amount = amount % coin   # Update the remaining amount\n",
        "    return count\n",
        "\n",
        "coins = [25, 10, 1]\n",
        "amount = 30\n",
        "print(greedy_coin_change(coins, amount))  # Output: 2"
      ],
      "metadata": {
        "id": "SRYVlcQ_tRE7"
      },
      "execution_count": null,
      "outputs": []
    },
    {
      "cell_type": "markdown",
      "source": [
        "## 2. Dynamic Programming\n",
        "\n",
        "- **Approach**: Solves by building solutions for smaller subproblems and finding the global optimal.\n",
        "- **Example**:  \n",
        "  - **Coin Denominations**: [25, 10, 7, 1]  \n",
        "  - **Target**: 30  \n",
        "  - **Solution**: Use 1 coin of 25 cents and 1 coin of 5 cents.\n",
        "  - **Total Coins Used**: 2  \n",
        "  - **Optimal**: Yes."
      ],
      "metadata": {
        "id": "9xsInmF_tj_C"
      }
    },
    {
      "cell_type": "code",
      "source": [
        "def dp_coin_change(coins, amount):\n",
        "    # Initialize the dp array with infinity\n",
        "    dp = [float('inf')] * (amount + 1)\n",
        "    dp[0] = 0  # Base case: 0 coins needed to make amount 0\n",
        "\n",
        "    # Loop through each coin\n",
        "    for coin in coins:\n",
        "        # Update the dp array for each value from coin to amount\n",
        "        for x in range(coin, amount + 1):\n",
        "            dp[x] = min(dp[x], dp[x - coin] + 1)\n",
        "\n",
        "    # Return the result: either the minimum coins needed or -1 if not possible\n",
        "    return dp[amount] if dp[amount] != float('inf') else -1\n",
        "\n",
        "# Example usage\n",
        "coins = [25, 10, 5, 1]\n",
        "target_amount = 30\n",
        "result = dp_coin_change(coins, target_amount)\n",
        "print(f\"Minimum coins needed to make {target_amount}: {result}\")"
      ],
      "metadata": {
        "colab": {
          "base_uri": "https://localhost:8080/"
        },
        "id": "cJ7wk6zQtnHy",
        "outputId": "e33fabb3-16bd-40ca-9778-8714e5001cc2"
      },
      "execution_count": 4,
      "outputs": [
        {
          "output_type": "stream",
          "name": "stdout",
          "text": [
            "Minimum coins needed to make 30: 2\n"
          ]
        }
      ]
    },
    {
      "cell_type": "markdown",
      "source": [
        "# Sorting\n",
        "\n",
        "## Comparison of Merge Sort and Quick Sort"
      ],
      "metadata": {
        "id": "OLu8zLeVhcEI"
      }
    },
    {
      "cell_type": "markdown",
      "source": [
        "## Matrix Multiplication"
      ],
      "metadata": {
        "id": "K6dI8APEhs5L"
      }
    },
    {
      "cell_type": "code",
      "source": [
        "def matrix_multiplication(A, B):\n",
        "    m = [[0 for row in range(len(B[0]))]] for col in range(len(A))\n",
        "    for i in range(len(A)):\n",
        "        for j in range(len(B[0])):\n",
        "            for k in range(len(B)):\n",
        "                m[i][j] += A[i][k] * B[k][j]\n",
        "    return m"
      ],
      "metadata": {
        "id": "3-Go6pCvWvNF"
      },
      "execution_count": null,
      "outputs": []
    }
  ]
}