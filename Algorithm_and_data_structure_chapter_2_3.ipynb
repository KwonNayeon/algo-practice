{
  "nbformat": 4,
  "nbformat_minor": 0,
  "metadata": {
    "colab": {
      "provenance": [],
      "authorship_tag": "ABX9TyNQ6RefGXIAA0OjtfPMAF2S",
      "include_colab_link": true
    },
    "kernelspec": {
      "name": "python3",
      "display_name": "Python 3"
    },
    "language_info": {
      "name": "python"
    }
  },
  "cells": [
    {
      "cell_type": "markdown",
      "metadata": {
        "id": "view-in-github",
        "colab_type": "text"
      },
      "source": [
        "<a href=\"https://colab.research.google.com/github/KwonNayeon/algo-practice/blob/main/Algorithm_and_data_structure_chapter_2_3.ipynb\" target=\"_parent\"><img src=\"https://colab.research.google.com/assets/colab-badge.svg\" alt=\"Open In Colab\"/></a>"
      ]
    },
    {
      "cell_type": "markdown",
      "source": [
        "# Chapter 2"
      ],
      "metadata": {
        "id": "Fd3doThasn3r"
      }
    },
    {
      "cell_type": "code",
      "execution_count": null,
      "metadata": {
        "id": "3ahu8ynlngMz"
      },
      "outputs": [],
      "source": [
        "# Iterative algorithm to calculate the factorial of a number n\n",
        "\n",
        "def factorial(n):\n",
        "    the_product = 1\n",
        "    while n > 1:\n",
        "        the_product *= n  # the_product = the_product * n\n",
        "        n -= 1  # n = n-1\n",
        "    return the_product\n",
        "\n",
        "# Recursive algorithm to calculate the factorial of a number n\n",
        "\n",
        "def factorial(n):\n",
        "    if n == 0:\n",
        "        return 1\n",
        "    else:\n",
        "        return n * factorial(n-1)"
      ]
    },
    {
      "cell_type": "markdown",
      "source": [
        "# Chapter 3"
      ],
      "metadata": {
        "id": "y7hlsTXLsslX"
      }
    },
    {
      "cell_type": "code",
      "source": [
        "# Linear search\n",
        "\n",
        "def linear_search(a_list, n):\n",
        "  for i in a_list:\n",
        "    if i == n:\n",
        "        return True\n",
        "  return False\n",
        "\n",
        "a_list = [1, 2, 3, 4, 5]\n",
        "print(linear_search(a_list, 3))"
      ],
      "metadata": {
        "colab": {
          "base_uri": "https://localhost:8080/"
        },
        "id": "jYuh2ZK0snR1",
        "outputId": "28320819-97bf-427a-9033-1e70f04d6050"
      },
      "execution_count": null,
      "outputs": [
        {
          "output_type": "stream",
          "name": "stdout",
          "text": [
            "True\n"
          ]
        }
      ]
    },
    {
      "cell_type": "code",
      "source": [
        "# Binary search\n",
        "\n",
        "def binary_search(a_list, n):\n",
        "  first = 0\n",
        "  last = len(a_list) - 1\n",
        "  while last >= first:\n",
        "    mid = (first + last) // 2\n",
        "    if a_list[mid] == n:\n",
        "        return Trun\n",
        "    else:\n",
        "        if n < a_list[mid]:\n",
        "            last = mid - 1\n",
        "        else:\n",
        "            first = mid + 1\n",
        "  return False"
      ],
      "metadata": {
        "id": "JB-LzVw8_uLZ"
      },
      "execution_count": null,
      "outputs": []
    },
    {
      "cell_type": "markdown",
      "source": [
        "# Chapter 4"
      ],
      "metadata": {
        "id": "jJw-DtzlBFoc"
      }
    },
    {
      "cell_type": "code",
      "source": [
        "# Bubble sort algorithm\n",
        "def bubble_sort(a_list):\n",
        "  list_length = len(a_list) - 1\n",
        "  for i in range(list_length):\n",
        "    no_swaps = True\n",
        "    for j in range(list_length - i):\n",
        "      if a_list[j] > a_list[j + 1]:\n",
        "          a_list[j], a_list[j + 1] = a_list[j + 1], a_list[j]\n",
        "          no_swaps = False\n",
        "    if no_swaps:\n",
        "      return a_list\n",
        "\n",
        "# Example usage\n",
        "arr = [64, 34, 25, 12, 22, 11, 90]\n",
        "print(\"Original array:\", arr)\n",
        "\n",
        "sorted_arr = bubble_sort(arr)\n",
        "print(\"Sorted array:\", sorted_arr)"
      ],
      "metadata": {
        "id": "bVazGD6rBH5w",
        "colab": {
          "base_uri": "https://localhost:8080/"
        },
        "outputId": "43d83524-1768-4b89-a396-f43d1c2a6040"
      },
      "execution_count": 2,
      "outputs": [
        {
          "output_type": "stream",
          "name": "stdout",
          "text": [
            "Original array: [64, 34, 25, 12, 22, 11, 90]\n",
            "Sorted array: [11, 12, 22, 25, 34, 64, 90]\n"
          ]
        }
      ]
    },
    {
      "cell_type": "code",
      "source": [
        "# Insertion sort\n",
        "def insertion_sort(a_list):\n",
        "  for i in range(1, len(a_list)):\n",
        "    value = a_list[i]\n",
        "    while i>0 and a_list[i-1] > value:\n",
        "      a_list[i] = a_list[i-1]\n",
        "      i = i-1\n",
        "    a_list[i] = value\n",
        "  return a_list"
      ],
      "metadata": {
        "id": "o44PsS6tBQjo"
      },
      "execution_count": null,
      "outputs": []
    },
    {
      "cell_type": "code",
      "source": [
        "# Merge sort\n"
      ],
      "metadata": {
        "id": "7h14HVvWBRxy"
      },
      "execution_count": null,
      "outputs": []
    },
    {
      "cell_type": "markdown",
      "source": [
        "# Chapter 5"
      ],
      "metadata": {
        "id": "qThY59D9o1wW"
      }
    },
    {
      "cell_type": "code",
      "source": [
        "# Anagram\n",
        "\n",
        "def is_anagram(s1, s2):\n",
        "    s1 = s1.replace(\" \", \"\").lower()\n",
        "    s2 = s2.replace(\" \", \"\").lower()\n",
        "    if sorted(s1) == sorted(s2):\n",
        "      return True\n",
        "    else:\n",
        "      return False\n",
        "\n",
        "s1 = \"Emperor Octavian\"\n",
        "s2 = \"Captain over Rome\"\n",
        "print(is_anagram(s1, s2))"
      ],
      "metadata": {
        "colab": {
          "base_uri": "https://localhost:8080/"
        },
        "id": "VQcXVhyxo4DQ",
        "outputId": "65c4ef8f-cc47-4161-88b3-d6595c4b7ed2"
      },
      "execution_count": null,
      "outputs": [
        {
          "output_type": "stream",
          "name": "stdout",
          "text": [
            "True\n"
          ]
        }
      ]
    },
    {
      "cell_type": "code",
      "source": [
        "# Palindrome\n",
        "\n",
        "print(\"blackswan\"[::-1])\n",
        "\n",
        "def is_palindroms(s1):\n",
        "  if s1.lower() == s1[::-1].lower():\n",
        "    return True\n",
        "  else:\n",
        "    return False\n",
        "\n",
        "s1 = \"Emperor Octavian\"\n",
        "print(is_palindroms(s1))"
      ],
      "metadata": {
        "colab": {
          "base_uri": "https://localhost:8080/"
        },
        "id": "CSPQ0saLqxTE",
        "outputId": "e751b2e7-56aa-41ca-fb77-0bad0e49b11b"
      },
      "execution_count": null,
      "outputs": [
        {
          "output_type": "stream",
          "name": "stdout",
          "text": [
            "nawskcalb\n",
            "False\n"
          ]
        }
      ]
    },
    {
      "cell_type": "code",
      "source": [
        "# List Comprehension\n",
        "\n",
        "print([c for c in \"selftaught\"])\n",
        "\n",
        "print([c for c in \"selftaught\" if ord(c) > 102])"
      ],
      "metadata": {
        "colab": {
          "base_uri": "https://localhost:8080/"
        },
        "id": "c_Gs_rNVB5tQ",
        "outputId": "cee914f5-b7b5-47a1-b2fb-e3c04b53d342"
      },
      "execution_count": null,
      "outputs": [
        {
          "output_type": "stream",
          "name": "stdout",
          "text": [
            "['s', 'e', 'l', 'f', 't', 'a', 'u', 'g', 'h', 't']\n",
            "['s', 'l', 't', 'u', 'g', 'h', 't']\n"
          ]
        }
      ]
    },
    {
      "cell_type": "code",
      "source": [
        "s = \"Buy 1 get 2 free\"\n",
        "nl = [c for c in s if c.isdigit()]\n",
        "print(nl)\n",
        "\n",
        "print([c for c in s if c.isdigit()][-1])"
      ],
      "metadata": {
        "colab": {
          "base_uri": "https://localhost:8080/"
        },
        "id": "YI6GwEP3CgJY",
        "outputId": "6aec60a2-4201-4d16-f023-aa724871da34"
      },
      "execution_count": null,
      "outputs": [
        {
          "output_type": "stream",
          "name": "stdout",
          "text": [
            "['1', '2']\n",
            "2\n"
          ]
        }
      ]
    },
    {
      "cell_type": "code",
      "source": [
        "# practice\n",
        "\n",
        "ny = [\"selftaught\", \"code\", \"sit\", \"eat\", \"programming\", \"donuts\", \"icecream\", \"ben&jerrys\", \"sleepy\"]\n",
        "nyc = [c for c in ny if len(c) > 5]\n",
        "print(nyc)"
      ],
      "metadata": {
        "colab": {
          "base_uri": "https://localhost:8080/"
        },
        "id": "x4dQ3DYNDFEN",
        "outputId": "a30bda77-e253-45ae-d9fd-5961da332f17"
      },
      "execution_count": null,
      "outputs": [
        {
          "output_type": "stream",
          "name": "stdout",
          "text": [
            "['selftaught', 'programming', 'donuts', 'icecream', 'ben&jerrys', 'sleepy']\n"
          ]
        }
      ]
    },
    {
      "cell_type": "code",
      "source": [
        "# Caesar cipher encryption function\n",
        "\n",
        "import string\n",
        "\n",
        "uppercase = string.ascii_uppercase\n",
        "lowercase = string.ascii_lowercase\n",
        "\n",
        "print(uppercase)\n",
        "print(lowercase)\n",
        "\n",
        "def cipher(a_string, key):\n",
        "  uppercase = string.ascii_uppercase\n",
        "  lowercase = string.ascii_lowercase\n",
        "  encrypt = \"\"\n",
        "  for c in a_string:\n",
        "    if c in uppercase:\n",
        "      new = (uppercase.index(c) + key) % 26\n",
        "      encrypt += uppercase[new]\n",
        "    elif c in lowercase:\n",
        "      new = (lowercase.index(c) + key) % 26\n",
        "      encrypt += lowercase[new]\n",
        "    else:\n",
        "      encrypt += c\n",
        "  return encrypt\n",
        "\n",
        "print(cipher(\"nananacupcakes\", 5))"
      ],
      "metadata": {
        "colab": {
          "base_uri": "https://localhost:8080/"
        },
        "id": "zNY9_qIEFKBC",
        "outputId": "30d68833-d106-4616-aa6e-980c34d05ad6"
      },
      "execution_count": null,
      "outputs": [
        {
          "output_type": "stream",
          "name": "stdout",
          "text": [
            "ABCDEFGHIJKLMNOPQRSTUVWXYZ\n",
            "abcdefghijklmnopqrstuvwxyz\n",
            "sfsfsfhzuhfpjx\n"
          ]
        }
      ]
    }
  ]
}