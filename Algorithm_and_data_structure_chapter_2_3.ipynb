{
  "nbformat": 4,
  "nbformat_minor": 0,
  "metadata": {
    "colab": {
      "provenance": [],
      "authorship_tag": "ABX9TyPCElVr1m/3spp0LEesOE+A",
      "include_colab_link": true
    },
    "kernelspec": {
      "name": "python3",
      "display_name": "Python 3"
    },
    "language_info": {
      "name": "python"
    }
  },
  "cells": [
    {
      "cell_type": "markdown",
      "metadata": {
        "id": "view-in-github",
        "colab_type": "text"
      },
      "source": [
        "<a href=\"https://colab.research.google.com/github/KwonNayeon/algo-practice/blob/main/Algorithm_and_data_structure_chapter_2_3.ipynb\" target=\"_parent\"><img src=\"https://colab.research.google.com/assets/colab-badge.svg\" alt=\"Open In Colab\"/></a>"
      ]
    },
    {
      "cell_type": "markdown",
      "source": [
        "# Chapter 2"
      ],
      "metadata": {
        "id": "Fd3doThasn3r"
      }
    },
    {
      "cell_type": "code",
      "execution_count": 10,
      "metadata": {
        "id": "3ahu8ynlngMz"
      },
      "outputs": [],
      "source": [
        "# Iterative algorithm to calculate the factorial of a number n\n",
        "\n",
        "def factorial(n):\n",
        "    the_product = 1\n",
        "    while n > 1:\n",
        "        the_product *= n  # the_product = the_product * n\n",
        "        n -= 1  # n = n-1\n",
        "    return the_product\n",
        "\n",
        "# Recursive algorithm to calculate the factorial of a number n\n",
        "\n",
        "def factorial(n):\n",
        "    if n == 0:\n",
        "        return 1\n",
        "    else:\n",
        "        return n * factorial(n-1)"
      ]
    },
    {
      "cell_type": "markdown",
      "source": [
        "# Chapter 3"
      ],
      "metadata": {
        "id": "y7hlsTXLsslX"
      }
    },
    {
      "cell_type": "code",
      "source": [
        "# Linear search\n",
        "\n",
        "def linear_search(a_list, n):\n",
        "  for i in a_list:\n",
        "    if i == n:\n",
        "        return True\n",
        "  return False\n",
        "\n",
        "a_list = [1, 2, 3, 4, 5]\n",
        "print(linear_search(a_list, 3))"
      ],
      "metadata": {
        "colab": {
          "base_uri": "https://localhost:8080/"
        },
        "id": "jYuh2ZK0snR1",
        "outputId": "ed259647-df86-4b7a-d415-54ec262a55a5"
      },
      "execution_count": 11,
      "outputs": [
        {
          "output_type": "stream",
          "name": "stdout",
          "text": [
            "True\n"
          ]
        }
      ]
    },
    {
      "cell_type": "code",
      "source": [
        "# Binary search\n",
        "\n",
        "def binary_search(a_list, n):\n",
        "  first = 0\n",
        "  last = len(a_list) - 1\n",
        "  while last >= first:\n",
        "    mid = (first + last) // 2\n",
        "    if a_list[mid] == n:\n",
        "        return Trun\n",
        "    else:\n",
        "        if n < a_list[mid]:\n",
        "            last = mid - 1\n",
        "        else:\n",
        "            first = mid + 1\n",
        "  return False"
      ],
      "metadata": {
        "id": "JB-LzVw8_uLZ"
      },
      "execution_count": 12,
      "outputs": []
    },
    {
      "cell_type": "markdown",
      "source": [
        "# Chapter 4"
      ],
      "metadata": {
        "id": "jJw-DtzlBFoc"
      }
    },
    {
      "cell_type": "code",
      "source": [
        "# Bubble sort algorithm\n",
        "def bubble_sort(a_list):\n",
        "  list_length = len(a_list) - 1\n",
        "  for i in range(list_length):\n",
        "    no_swaps = True\n",
        "    for j in range(list_length - i):\n",
        "      if a_list[j] > a_list[j + 1]:\n",
        "          a_list[j], a_list[j + 1] = a_list[j + 1], a_list[j]\n",
        "          no_swaps = False\n",
        "    if no_swaps:\n",
        "      return a_list\n",
        "\n",
        "# Example usage\n",
        "arr = [64, 34, 25, 12, 22, 11, 90]\n",
        "print(\"Original array:\", arr)\n",
        "\n",
        "sorted_arr = bubble_sort(arr)\n",
        "print(\"Sorted array:\", sorted_arr)"
      ],
      "metadata": {
        "id": "bVazGD6rBH5w",
        "colab": {
          "base_uri": "https://localhost:8080/"
        },
        "outputId": "37765946-c998-4f9f-ce4c-812deb1516ca"
      },
      "execution_count": 13,
      "outputs": [
        {
          "output_type": "stream",
          "name": "stdout",
          "text": [
            "Original array: [64, 34, 25, 12, 22, 11, 90]\n",
            "Sorted array: [11, 12, 22, 25, 34, 64, 90]\n"
          ]
        }
      ]
    },
    {
      "cell_type": "code",
      "source": [
        "# Insertion sort\n",
        "def insertion_sort(a_list):\n",
        "  for i in range(1, len(a_list)):\n",
        "    value = a_list[i]\n",
        "    while i>0 and a_list[i-1] > value:\n",
        "      a_list[i] = a_list[i-1]\n",
        "      i = i-1\n",
        "    a_list[i] = value\n",
        "  return a_list"
      ],
      "metadata": {
        "id": "o44PsS6tBQjo"
      },
      "execution_count": 14,
      "outputs": []
    },
    {
      "cell_type": "code",
      "source": [
        "# Merge sort algorithm\n",
        "def merge_sort(a_list):\n",
        "    if len(a_list) > 1:\n",
        "        mid = len(a_list) // 2\n",
        "        left_half = a_list[:mid]\n",
        "        right_half = a_list[mid:]\n",
        "        merge_sort(left_half)\n",
        "        merge_sort(right_half)\n",
        "\n",
        "        left_index = 0\n",
        "        right_index = 0\n",
        "        merged_index = 0\n",
        "        while left_index < len(left_half) and right_index < len(right_half):\n",
        "            if left_half[left_index] < right_half[right_index]:\n",
        "                a_list[merged_index] = left_half[left_index]\n",
        "                left_index += 1\n",
        "            else:\n",
        "                a_list[merged_index] = right_half[right_index]\n",
        "                right_index += 1\n",
        "            merged_index += 1\n",
        "\n",
        "        while left_index < len(left_half):\n",
        "            a_list[merged_index] = left_half[left_index]\n",
        "            left_index += 1\n",
        "            merged_index += 1\n",
        "\n",
        "        while right_index < len(right_half):\n",
        "            a_list[merged_index] = right_half[right_index]\n",
        "            right_index += 1\n",
        "            merged_index += 1\n",
        "\n",
        "    return a_list\n",
        "\n",
        "# Example usage\n",
        "arr = [64, 34, 25, 12, 22, 11, 90]\n",
        "print(\"Original array:\", arr)\n",
        "\n",
        "sorted_arr = merge_sort(arr)\n",
        "print(\"Sorted array:\", sorted_arr)"
      ],
      "metadata": {
        "id": "7h14HVvWBRxy",
        "colab": {
          "base_uri": "https://localhost:8080/"
        },
        "outputId": "78e01ffa-74d7-4acc-d069-f310c92cd249"
      },
      "execution_count": 15,
      "outputs": [
        {
          "output_type": "stream",
          "name": "stdout",
          "text": [
            "Original array: [64, 34, 25, 12, 22, 11, 90]\n",
            "Sorted array: [11, 12, 22, 25, 34, 64, 90]\n"
          ]
        }
      ]
    },
    {
      "cell_type": "markdown",
      "source": [
        "# Chapter 5"
      ],
      "metadata": {
        "id": "qThY59D9o1wW"
      }
    },
    {
      "cell_type": "code",
      "source": [
        "# Anagram\n",
        "\n",
        "def is_anagram(s1, s2):\n",
        "    s1 = s1.replace(\" \", \"\").lower()\n",
        "    s2 = s2.replace(\" \", \"\").lower()\n",
        "    if sorted(s1) == sorted(s2):\n",
        "      return True\n",
        "    else:\n",
        "      return False\n",
        "\n",
        "s1 = \"Emperor Octavian\"\n",
        "s2 = \"Captain over Rome\"\n",
        "print(is_anagram(s1, s2))"
      ],
      "metadata": {
        "colab": {
          "base_uri": "https://localhost:8080/"
        },
        "id": "VQcXVhyxo4DQ",
        "outputId": "bb0fedc4-adc8-42c8-b62f-4be01ae6a9b0"
      },
      "execution_count": 16,
      "outputs": [
        {
          "output_type": "stream",
          "name": "stdout",
          "text": [
            "True\n"
          ]
        }
      ]
    },
    {
      "cell_type": "code",
      "source": [
        "# Palindrome\n",
        "\n",
        "print(\"blackswan\"[::-1])\n",
        "\n",
        "def is_palindroms(s1):\n",
        "  if s1.lower() == s1[::-1].lower():\n",
        "    return True\n",
        "  else:\n",
        "    return False\n",
        "\n",
        "s1 = \"Emperor Octavian\"\n",
        "print(is_palindroms(s1))"
      ],
      "metadata": {
        "colab": {
          "base_uri": "https://localhost:8080/"
        },
        "id": "CSPQ0saLqxTE",
        "outputId": "a1a8b24d-2c9d-4c37-99a5-5e946e2774d7"
      },
      "execution_count": 17,
      "outputs": [
        {
          "output_type": "stream",
          "name": "stdout",
          "text": [
            "nawskcalb\n",
            "False\n"
          ]
        }
      ]
    },
    {
      "cell_type": "code",
      "source": [
        "# List Comprehension\n",
        "\n",
        "print([c for c in \"selftaught\"])\n",
        "\n",
        "print([c for c in \"selftaught\" if ord(c) > 102])"
      ],
      "metadata": {
        "colab": {
          "base_uri": "https://localhost:8080/"
        },
        "id": "c_Gs_rNVB5tQ",
        "outputId": "53a39eb3-894c-4486-c1c2-fabf6cb4b67e"
      },
      "execution_count": 18,
      "outputs": [
        {
          "output_type": "stream",
          "name": "stdout",
          "text": [
            "['s', 'e', 'l', 'f', 't', 'a', 'u', 'g', 'h', 't']\n",
            "['s', 'l', 't', 'u', 'g', 'h', 't']\n"
          ]
        }
      ]
    },
    {
      "cell_type": "code",
      "source": [
        "s = \"Buy 1 get 2 free\"\n",
        "nl = [c for c in s if c.isdigit()]\n",
        "print(nl)\n",
        "\n",
        "print([c for c in s if c.isdigit()][-1])"
      ],
      "metadata": {
        "colab": {
          "base_uri": "https://localhost:8080/"
        },
        "id": "YI6GwEP3CgJY",
        "outputId": "83415156-13b5-4d29-884f-a09d76e568ac"
      },
      "execution_count": 19,
      "outputs": [
        {
          "output_type": "stream",
          "name": "stdout",
          "text": [
            "['1', '2']\n",
            "2\n"
          ]
        }
      ]
    },
    {
      "cell_type": "code",
      "source": [
        "# Practice\n",
        "\n",
        "ny = [\"selftaught\", \"code\", \"sit\", \"eat\", \"programming\", \"donuts\", \"icecream\", \"ben&jerrys\", \"sleepy\"]\n",
        "\n",
        "# List comprehension to filter elements with length greater than 5\n",
        "nyc = [c for c in ny if len(c) > 5]\n",
        "\n",
        "print(nyc)"
      ],
      "metadata": {
        "colab": {
          "base_uri": "https://localhost:8080/"
        },
        "id": "x4dQ3DYNDFEN",
        "outputId": "e1b55b7d-a7c1-4bbf-933a-ba9b97c22c0f"
      },
      "execution_count": 20,
      "outputs": [
        {
          "output_type": "stream",
          "name": "stdout",
          "text": [
            "['selftaught', 'programming', 'donuts', 'icecream', 'ben&jerrys', 'sleepy']\n"
          ]
        }
      ]
    },
    {
      "cell_type": "code",
      "source": [
        "# Caesar cipher encryption function\n",
        "\n",
        "import string\n",
        "\n",
        "uppercase = string.ascii_uppercase\n",
        "lowercase = string.ascii_lowercase\n",
        "\n",
        "print(uppercase)\n",
        "print(lowercase)\n",
        "\n",
        "def cipher(a_string, key):\n",
        "  uppercase = string.ascii_uppercase\n",
        "  lowercase = string.ascii_lowercase\n",
        "  encrypt = \"\"\n",
        "  for c in a_string:\n",
        "    if c in uppercase:\n",
        "      new = (uppercase.index(c) + key) % 26\n",
        "      encrypt += uppercase[new]\n",
        "    elif c in lowercase:\n",
        "      new = (lowercase.index(c) + key) % 26\n",
        "      encrypt += lowercase[new]\n",
        "    else:\n",
        "      encrypt += c\n",
        "  return encrypt\n",
        "\n",
        "print(cipher(\"nananacupcakes\", 5))"
      ],
      "metadata": {
        "colab": {
          "base_uri": "https://localhost:8080/"
        },
        "id": "zNY9_qIEFKBC",
        "outputId": "3351df31-fc48-47cf-dcf8-27d2a59f5e67"
      },
      "execution_count": 21,
      "outputs": [
        {
          "output_type": "stream",
          "name": "stdout",
          "text": [
            "ABCDEFGHIJKLMNOPQRSTUVWXYZ\n",
            "abcdefghijklmnopqrstuvwxyz\n",
            "sfsfsfhzuhfpjx\n"
          ]
        }
      ]
    }
  ]
}